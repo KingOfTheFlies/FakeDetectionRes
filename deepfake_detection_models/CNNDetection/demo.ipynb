{
 "cells": [
  {
   "cell_type": "code",
   "execution_count": 3,
   "metadata": {},
   "outputs": [
    {
     "name": "stderr",
     "output_type": "stream",
     "text": [
      "/tmp/ipykernel_1605655/1128297007.py:26: FutureWarning: You are using `torch.load` with `weights_only=False` (the current default value), which uses the default pickle module implicitly. It is possible to construct malicious pickle data which will execute arbitrary code during unpickling (See https://github.com/pytorch/pytorch/blob/main/SECURITY.md#untrusted-models for more details). In a future release, the default value for `weights_only` will be flipped to `True`. This limits the functions that could be executed during unpickling. Arbitrary objects will no longer be allowed to be loaded via this mode unless they are explicitly allowlisted by the user via `torch.serialization.add_safe_globals`. We recommend you start setting `weights_only=True` for any use case where you don't have full control of the loaded file. Please open an issue on GitHub for any issues related to this experimental feature.\n",
      "  state_dict = torch.load(opt.model_path, map_location='cpu')\n"
     ]
    },
    {
     "name": "stdout",
     "output_type": "stream",
     "text": [
      "Not cropping\n",
      "probability of being synthetic: 0.00%\n"
     ]
    }
   ],
   "source": [
    "import os\n",
    "import sys\n",
    "import torch\n",
    "import torch.nn\n",
    "import argparse\n",
    "import numpy as np\n",
    "import torchvision.transforms as transforms\n",
    "import torchvision.datasets as datasets\n",
    "from PIL import Image\n",
    "from networks.resnet import resnet50\n",
    "\n",
    "# file_dir = '/home/jovyan/shares/SR006.nfs2/almas_deepfake_detection/datasets/DiffusionForensics/dalle2/celebahq/1_fake/100.png'\n",
    "weights_path = '/home/jovyan/shares/SR006.nfs2/almas_deepfake_detection/deepfake_detection_models/CNNDetection/checkpoints/test-4class-resnet-car-cat-chair-horse2024_08_09_22_33_48/model_epoch_last.pth'\n",
    "# weights_path = \"/home/jovyan/shares/SR006.nfs2/almas_deepfake_detection/deepfake_detection_models/NPR-DeepfakeDetection/NPR.pth\"\n",
    "file_dir = '/home/jovyan/shares/SR006.nfs2/almas_deepfake_detection/datasets/DiffusionForensics/dalle2/celebahq/0_real/000152.jpg'\n",
    "\n",
    "parser = argparse.ArgumentParser(formatter_class=argparse.ArgumentDefaultsHelpFormatter)\n",
    "parser.add_argument('-f','--file', default=file_dir)\n",
    "parser.add_argument('-m','--model_path', type=str, default=weights_path)\n",
    "parser.add_argument('-c','--crop', type=int, default=None, help='by default, do not crop. specify crop size')\n",
    "parser.add_argument('--use_cpu', action='store_true', help='uses gpu by default, turn on to use cpu')\n",
    "\n",
    "opt = parser.parse_args()\n",
    "\n",
    "model = resnet50(num_classes=1)\n",
    "state_dict = torch.load(opt.model_path, map_location='cpu')\n",
    "model.load_state_dict(state_dict['model'])\n",
    "if(not opt.use_cpu):\n",
    "  model.cuda()\n",
    "model.eval()\n",
    "\n",
    "# Transform\n",
    "trans_init = []\n",
    "if(opt.crop is not None):\n",
    "  trans_init = [transforms.CenterCrop(opt.crop),]\n",
    "  print('Cropping to [%i]'%opt.crop)\n",
    "else:\n",
    "  print('Not cropping')\n",
    "trans = transforms.Compose(trans_init + [\n",
    "    transforms.ToTensor(),\n",
    "    transforms.Normalize(mean=[0.485, 0.456, 0.406], std=[0.229, 0.224, 0.225]),\n",
    "])\n",
    "\n",
    "img = trans(Image.open(file_dir).convert('RGB'))\n",
    "\n",
    "with torch.no_grad():\n",
    "  in_tens = img.unsqueeze(0)\n",
    "  if not opt.use_cpu:\n",
    "    in_tens = in_tens.cuda()\n",
    "  prob = model(in_tens).sigmoid().item()\n",
    "\n",
    "print('probability of being synthetic: {:.2f}%'.format(prob * 100))\n"
   ]
  }
 ],
 "metadata": {
  "kernelspec": {
   "display_name": "Python 3",
   "language": "python",
   "name": "python3"
  },
  "language_info": {
   "codemirror_mode": {
    "name": "ipython",
    "version": 3
   },
   "file_extension": ".py",
   "mimetype": "text/x-python",
   "name": "python",
   "nbconvert_exporter": "python",
   "pygments_lexer": "ipython3",
   "version": "3.12.2"
  }
 },
 "nbformat": 4,
 "nbformat_minor": 2
}
