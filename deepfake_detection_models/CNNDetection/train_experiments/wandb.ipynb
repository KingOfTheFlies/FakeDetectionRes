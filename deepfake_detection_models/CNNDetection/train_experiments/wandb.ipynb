{
 "cells": [
  {
   "cell_type": "code",
   "execution_count": 1,
   "id": "fcec961f",
   "metadata": {},
   "outputs": [],
   "source": [
    "%load_ext autoreload\n",
    "%autoreload 2"
   ]
  },
  {
   "cell_type": "code",
   "execution_count": 2,
   "id": "16f7360b",
   "metadata": {},
   "outputs": [
    {
     "name": "stderr",
     "output_type": "stream",
     "text": [
      "Failed to detect the name of this notebook, you can set it manually with the WANDB_NOTEBOOK_NAME environment variable to enable code saving.\n",
      "\u001b[34m\u001b[1mwandb\u001b[0m: \u001b[33mWARNING\u001b[0m If you're specifying your api key in code, ensure this code is not shared publicly.\n",
      "\u001b[34m\u001b[1mwandb\u001b[0m: \u001b[33mWARNING\u001b[0m Consider setting the WANDB_API_KEY environment variable, or running `wandb login` from the command line.\n",
      "\u001b[34m\u001b[1mwandb\u001b[0m: Appending key for api.wandb.ai to your netrc file: /home/jovyan/.netrc\n"
     ]
    },
    {
     "data": {
      "text/plain": [
       "True"
      ]
     },
     "execution_count": 2,
     "metadata": {},
     "output_type": "execute_result"
    }
   ],
   "source": [
    "import wandb\n",
    "\n",
    "wandb.login(key=\"79824aa6b958aeebce669281f175fe198eb060dd\", relogin=True)"
   ]
  },
  {
   "cell_type": "code",
   "execution_count": 3,
   "id": "8593dd8b",
   "metadata": {},
   "outputs": [
    {
     "name": "stderr",
     "output_type": "stream",
     "text": [
      "\u001b[34m\u001b[1mwandb\u001b[0m: Currently logged in as: \u001b[33mjabroni_ss\u001b[0m (\u001b[33mdungeon_as_fate\u001b[0m). Use \u001b[1m`wandb login --relogin`\u001b[0m to force relogin\n"
     ]
    },
    {
     "data": {
      "text/plain": [
       "True"
      ]
     },
     "execution_count": 3,
     "metadata": {},
     "output_type": "execute_result"
    }
   ],
   "source": [
    "wandb.login()"
   ]
  },
  {
   "cell_type": "code",
   "execution_count": 4,
   "metadata": {},
   "outputs": [
    {
     "name": "stdout",
     "output_type": "stream",
     "text": [
      "----------------- Options ---------------\n",
      "                     arch: res50                         \n",
      "               batch_size: 64                            \n",
      "                    beta1: 0.9                           \n",
      "                blur_prob: 0                             \n",
      "                 blur_sig: 0.5                           \n",
      "          checkpoints_dir: ./checkpoints                 \n",
      "                class_bal: False                         \n",
      "                  classes:                               \n",
      "           continue_train: False                         \n",
      "                 cropSize: 224                           \n",
      "                 data_aug: False                         \n",
      "                 dataroot: ./dataset/                    \n",
      "          earlystop_epoch: 5                             \n",
      "                    epoch: latest                        \n",
      "              epoch_count: 1                             \n",
      "                      fff: /home/jovyan/.local/share/jupyter/runtime/kernel-v2-720346IFdlRu6l78b2.json\t[default: 1]\n",
      "                  gpu_ids: 0                             \n",
      "                init_gain: 0.02                          \n",
      "                init_type: normal                        \n",
      "                  isTrain: True                          \t[default: None]\n",
      "               jpg_method: cv2                           \n",
      "                 jpg_prob: 0                             \n",
      "                 jpg_qual: 75                            \n",
      "               last_epoch: -1                            \n",
      "                 loadSize: 256                           \n",
      "                loss_freq: 400                           \n",
      "                       lr: 0.0001                        \n",
      "                     mode: binary                        \n",
      "                     name: experiment_name               \n",
      "                new_optim: False                         \n",
      "                    niter: 10000                         \n",
      "                  no_flip: False                         \n",
      "              num_threads: 4                             \n",
      "                    optim: adam                          \n",
      "           resize_or_crop: scale_and_crop                \n",
      "                rz_interp: bilinear                      \n",
      "          save_epoch_freq: 20                            \n",
      "         save_latest_freq: 2000                          \n",
      "           serial_batches: False                         \n",
      "                   suffix:                               \n",
      "              train_split: train                         \n",
      "                val_split: val                           \n",
      "----------------- End -------------------\n",
      "/home/jovyan/shares/SR006.nfs2/almas_deepfake_detection/env/cnn-detection-env/lib/python3.12/site-packages/ipykernel_launcher.py  --f=/home/jovyan/.local/share/jupyter/runtime/kernel-v2-720346IFdlRu6l78b2.json\n"
     ]
    },
    {
     "data": {
      "text/html": [
       "wandb version 0.17.6 is available!  To upgrade, please run:\n",
       " $ pip install wandb --upgrade"
      ],
      "text/plain": [
       "<IPython.core.display.HTML object>"
      ]
     },
     "metadata": {},
     "output_type": "display_data"
    },
    {
     "data": {
      "text/html": [
       "Tracking run with wandb version 0.17.5"
      ],
      "text/plain": [
       "<IPython.core.display.HTML object>"
      ]
     },
     "metadata": {},
     "output_type": "display_data"
    },
    {
     "data": {
      "text/html": [
       "Run data is saved locally in <code>/home/jovyan/shares/SR006.nfs2/almas_deepfake_detection/deepfake_detection_models/CNNDetection/wandb/run-20240809_215807-s6x5l3rp</code>"
      ],
      "text/plain": [
       "<IPython.core.display.HTML object>"
      ]
     },
     "metadata": {},
     "output_type": "display_data"
    },
    {
     "data": {
      "text/html": [
       "Syncing run <strong><a href='https://wandb.ai/dungeon_as_fate/CNNDetection_test_start/runs/s6x5l3rp' target=\"_blank\">test-4class-resnet-car-cat-chair-horse2024_08_09_21_58_07</a></strong> to <a href='https://wandb.ai/dungeon_as_fate/CNNDetection_test_start' target=\"_blank\">Weights & Biases</a> (<a href='https://wandb.me/run' target=\"_blank\">docs</a>)<br/>"
      ],
      "text/plain": [
       "<IPython.core.display.HTML object>"
      ]
     },
     "metadata": {},
     "output_type": "display_data"
    },
    {
     "data": {
      "text/html": [
       " View project at <a href='https://wandb.ai/dungeon_as_fate/CNNDetection_test_start' target=\"_blank\">https://wandb.ai/dungeon_as_fate/CNNDetection_test_start</a>"
      ],
      "text/plain": [
       "<IPython.core.display.HTML object>"
      ]
     },
     "metadata": {},
     "output_type": "display_data"
    },
    {
     "data": {
      "text/html": [
       " View run at <a href='https://wandb.ai/dungeon_as_fate/CNNDetection_test_start/runs/s6x5l3rp' target=\"_blank\">https://wandb.ai/dungeon_as_fate/CNNDetection_test_start/runs/s6x5l3rp</a>"
      ],
      "text/plain": [
       "<IPython.core.display.HTML object>"
      ]
     },
     "metadata": {},
     "output_type": "display_data"
    },
    {
     "name": "stdout",
     "output_type": "stream",
     "text": [
      "Model is running on device: cuda:0\n",
      "cwd: /home/jovyan/shares/SR006.nfs2/almas_deepfake_detection/deepfake_detection_models/CNNDetection\n",
      "2024_08_09_21_58_54 Train loss: 0.042753834277391434 at step: 400 lr 0.0001\n",
      "2024_08_09_21_59_33 Train loss: 0.4418513774871826 at step: 800 lr 0.0001\n",
      "2024_08_09_22_00_12 Train loss: 0.0015586024383082986 at step: 1200 lr 0.0001\n",
      "2024_08_09_22_00_50 Train loss: 0.011782180517911911 at step: 1600 lr 0.0001\n",
      "2024_08_09_22_01_29 Train loss: 0.010067179799079895 at step: 2000 lr 0.0001\n",
      "2024_08_09_22_02_07 Train loss: 0.0016716865357011557 at step: 2400 lr 0.0001\n",
      "2024_08_09_22_02_46 Train loss: 0.002584815490990877 at step: 2800 lr 0.0001\n",
      "2024_08_09_22_03_24 Train loss: 0.025854848325252533 at step: 3200 lr 0.0001\n",
      "2024_08_09_22_04_03 Train loss: 0.00014911318430677056 at step: 3600 lr 0.0001\n",
      "2024_08_09_22_04_42 Train loss: 0.0013748020865023136 at step: 4000 lr 0.0001\n",
      "2024_08_09_22_05_20 Train loss: 0.01818438433110714 at step: 4400 lr 0.0001\n",
      "saving the model at the end of epoch 0, iters 4501\n",
      "(Val @ epoch 0) acc: 0.912625; ap: 0.9954240020607346\n",
      "Validation accuracy increased (-inf --> 0.912625).  Saving model ...\n",
      "*************************\n",
      "2024_08_09_22_05_53\n",
      "(0 progan    ) acc: 90.5; ap: 99.5\n",
      "(1 stylegan  ) acc: 66.4; ap: 93.9\n",
      "(2 stylegan2 ) acc: 63.3; ap: 96.6\n",
      "(3 biggan    ) acc: 60.7; ap: 75.4\n",
      "(4 cyclegan  ) acc: 75.9; ap: 86.4\n",
      "(5 stargan   ) acc: 90.1; ap: 100.0\n",
      "(6 gaugan    ) acc: 55.5; ap: 71.2\n",
      "(7 deepfake  ) acc: 88.7; ap: 96.5\n",
      "(8 Mean      ) acc: 73.9; ap: 89.9\n",
      "*************************\n",
      "2024_08_09_22_08_43\n",
      "*************************\n",
      "2024_08_09_22_08_43\n",
      "(0 progan    ) acc: 90.5; ap: 99.5\n"
     ]
    },
    {
     "ename": "KeyboardInterrupt",
     "evalue": "",
     "output_type": "error",
     "traceback": [
      "\u001b[0;31m---------------------------------------------------------------------------\u001b[0m",
      "\u001b[0;31mKeyboardInterrupt\u001b[0m                         Traceback (most recent call last)",
      "Cell \u001b[0;32mIn[4], line 140\u001b[0m\n\u001b[1;32m    137\u001b[0m     testmodel()\n\u001b[1;32m    138\u001b[0m     model\u001b[38;5;241m.\u001b[39mtrain()\n\u001b[0;32m--> 140\u001b[0m model\u001b[38;5;241m.\u001b[39meval();testmodel()\n\u001b[1;32m    141\u001b[0m model\u001b[38;5;241m.\u001b[39msave_networks(\u001b[38;5;124m'\u001b[39m\u001b[38;5;124mlast\u001b[39m\u001b[38;5;124m'\u001b[39m)\n\u001b[1;32m    142\u001b[0m wandb\u001b[38;5;241m.\u001b[39mfinish()\n",
      "Cell \u001b[0;32mIn[4], line 79\u001b[0m, in \u001b[0;36mtestmodel\u001b[0;34m()\u001b[0m\n\u001b[1;32m     76\u001b[0m Testopt\u001b[38;5;241m.\u001b[39mclasses \u001b[38;5;241m=\u001b[39m os\u001b[38;5;241m.\u001b[39mlistdir(Testopt\u001b[38;5;241m.\u001b[39mdataroot) \u001b[38;5;28;01mif\u001b[39;00m multiclass[v_id] \u001b[38;5;28;01melse\u001b[39;00m [\u001b[38;5;124m'\u001b[39m\u001b[38;5;124m'\u001b[39m]\n\u001b[1;32m     77\u001b[0m \u001b[38;5;66;03m# Testopt.no_resize = True\u001b[39;00m\n\u001b[1;32m     78\u001b[0m \u001b[38;5;66;03m# Testopt.no_crop = True\u001b[39;00m\n\u001b[0;32m---> 79\u001b[0m acc, ap, _, _, _, _ \u001b[38;5;241m=\u001b[39m \u001b[43mvalidate\u001b[49m\u001b[43m(\u001b[49m\u001b[43mmodel\u001b[49m\u001b[38;5;241;43m.\u001b[39;49m\u001b[43mmodel\u001b[49m\u001b[43m,\u001b[49m\u001b[43m \u001b[49m\u001b[43mTestopt\u001b[49m\u001b[43m)\u001b[49m\n\u001b[1;32m     80\u001b[0m accs\u001b[38;5;241m.\u001b[39mappend(acc);aps\u001b[38;5;241m.\u001b[39mappend(ap)\n\u001b[1;32m     81\u001b[0m \u001b[38;5;28mprint\u001b[39m(\u001b[38;5;124m\"\u001b[39m\u001b[38;5;124m(\u001b[39m\u001b[38;5;132;01m{}\u001b[39;00m\u001b[38;5;124m \u001b[39m\u001b[38;5;132;01m{:10}\u001b[39;00m\u001b[38;5;124m) acc: \u001b[39m\u001b[38;5;132;01m{:.1f}\u001b[39;00m\u001b[38;5;124m; ap: \u001b[39m\u001b[38;5;132;01m{:.1f}\u001b[39;00m\u001b[38;5;124m\"\u001b[39m\u001b[38;5;241m.\u001b[39mformat(v_id, val, acc\u001b[38;5;241m*\u001b[39m\u001b[38;5;241m100\u001b[39m, ap\u001b[38;5;241m*\u001b[39m\u001b[38;5;241m100\u001b[39m))\n",
      "File \u001b[0;32m~/shares/SR006.nfs2/almas_deepfake_detection/deepfake_detection_models/CNNDetection/validate.py:14\u001b[0m, in \u001b[0;36mvalidate\u001b[0;34m(model, opt)\u001b[0m\n\u001b[1;32m     12\u001b[0m \u001b[38;5;28;01mwith\u001b[39;00m torch\u001b[38;5;241m.\u001b[39mno_grad():\n\u001b[1;32m     13\u001b[0m     y_true, y_pred \u001b[38;5;241m=\u001b[39m [], []\n\u001b[0;32m---> 14\u001b[0m \u001b[43m    \u001b[49m\u001b[38;5;28;43;01mfor\u001b[39;49;00m\u001b[43m \u001b[49m\u001b[43mimg\u001b[49m\u001b[43m,\u001b[49m\u001b[43m \u001b[49m\u001b[43mlabel\u001b[49m\u001b[43m \u001b[49m\u001b[38;5;129;43;01min\u001b[39;49;00m\u001b[43m \u001b[49m\u001b[43mdata_loader\u001b[49m\u001b[43m:\u001b[49m\n\u001b[1;32m     15\u001b[0m \u001b[43m        \u001b[49m\u001b[43min_tens\u001b[49m\u001b[43m \u001b[49m\u001b[38;5;241;43m=\u001b[39;49m\u001b[43m \u001b[49m\u001b[43mimg\u001b[49m\u001b[38;5;241;43m.\u001b[39;49m\u001b[43mcuda\u001b[49m\u001b[43m(\u001b[49m\u001b[43m)\u001b[49m\n\u001b[1;32m     16\u001b[0m \u001b[43m        \u001b[49m\u001b[43my_pred\u001b[49m\u001b[38;5;241;43m.\u001b[39;49m\u001b[43mextend\u001b[49m\u001b[43m(\u001b[49m\u001b[43mmodel\u001b[49m\u001b[43m(\u001b[49m\u001b[43min_tens\u001b[49m\u001b[43m)\u001b[49m\u001b[38;5;241;43m.\u001b[39;49m\u001b[43msigmoid\u001b[49m\u001b[43m(\u001b[49m\u001b[43m)\u001b[49m\u001b[38;5;241;43m.\u001b[39;49m\u001b[43mflatten\u001b[49m\u001b[43m(\u001b[49m\u001b[43m)\u001b[49m\u001b[38;5;241;43m.\u001b[39;49m\u001b[43mtolist\u001b[49m\u001b[43m(\u001b[49m\u001b[43m)\u001b[49m\u001b[43m)\u001b[49m\n",
      "File \u001b[0;32m~/shares/SR006.nfs2/almas_deepfake_detection/env/cnn-detection-env/lib/python3.12/site-packages/torch/utils/data/dataloader.py:630\u001b[0m, in \u001b[0;36m_BaseDataLoaderIter.__next__\u001b[0;34m(self)\u001b[0m\n\u001b[1;32m    627\u001b[0m \u001b[38;5;28;01mif\u001b[39;00m \u001b[38;5;28mself\u001b[39m\u001b[38;5;241m.\u001b[39m_sampler_iter \u001b[38;5;129;01mis\u001b[39;00m \u001b[38;5;28;01mNone\u001b[39;00m:\n\u001b[1;32m    628\u001b[0m     \u001b[38;5;66;03m# TODO(https://github.com/pytorch/pytorch/issues/76750)\u001b[39;00m\n\u001b[1;32m    629\u001b[0m     \u001b[38;5;28mself\u001b[39m\u001b[38;5;241m.\u001b[39m_reset()  \u001b[38;5;66;03m# type: ignore[call-arg]\u001b[39;00m\n\u001b[0;32m--> 630\u001b[0m data \u001b[38;5;241m=\u001b[39m \u001b[38;5;28;43mself\u001b[39;49m\u001b[38;5;241;43m.\u001b[39;49m\u001b[43m_next_data\u001b[49m\u001b[43m(\u001b[49m\u001b[43m)\u001b[49m\n\u001b[1;32m    631\u001b[0m \u001b[38;5;28mself\u001b[39m\u001b[38;5;241m.\u001b[39m_num_yielded \u001b[38;5;241m+\u001b[39m\u001b[38;5;241m=\u001b[39m \u001b[38;5;241m1\u001b[39m\n\u001b[1;32m    632\u001b[0m \u001b[38;5;28;01mif\u001b[39;00m \u001b[38;5;28mself\u001b[39m\u001b[38;5;241m.\u001b[39m_dataset_kind \u001b[38;5;241m==\u001b[39m _DatasetKind\u001b[38;5;241m.\u001b[39mIterable \u001b[38;5;129;01mand\u001b[39;00m \\\n\u001b[1;32m    633\u001b[0m         \u001b[38;5;28mself\u001b[39m\u001b[38;5;241m.\u001b[39m_IterableDataset_len_called \u001b[38;5;129;01mis\u001b[39;00m \u001b[38;5;129;01mnot\u001b[39;00m \u001b[38;5;28;01mNone\u001b[39;00m \u001b[38;5;129;01mand\u001b[39;00m \\\n\u001b[1;32m    634\u001b[0m         \u001b[38;5;28mself\u001b[39m\u001b[38;5;241m.\u001b[39m_num_yielded \u001b[38;5;241m>\u001b[39m \u001b[38;5;28mself\u001b[39m\u001b[38;5;241m.\u001b[39m_IterableDataset_len_called:\n",
      "File \u001b[0;32m~/shares/SR006.nfs2/almas_deepfake_detection/env/cnn-detection-env/lib/python3.12/site-packages/torch/utils/data/dataloader.py:1327\u001b[0m, in \u001b[0;36m_MultiProcessingDataLoaderIter._next_data\u001b[0;34m(self)\u001b[0m\n\u001b[1;32m   1324\u001b[0m     \u001b[38;5;28;01mreturn\u001b[39;00m \u001b[38;5;28mself\u001b[39m\u001b[38;5;241m.\u001b[39m_process_data(data)\n\u001b[1;32m   1326\u001b[0m \u001b[38;5;28;01massert\u001b[39;00m \u001b[38;5;129;01mnot\u001b[39;00m \u001b[38;5;28mself\u001b[39m\u001b[38;5;241m.\u001b[39m_shutdown \u001b[38;5;129;01mand\u001b[39;00m \u001b[38;5;28mself\u001b[39m\u001b[38;5;241m.\u001b[39m_tasks_outstanding \u001b[38;5;241m>\u001b[39m \u001b[38;5;241m0\u001b[39m\n\u001b[0;32m-> 1327\u001b[0m idx, data \u001b[38;5;241m=\u001b[39m \u001b[38;5;28;43mself\u001b[39;49m\u001b[38;5;241;43m.\u001b[39;49m\u001b[43m_get_data\u001b[49m\u001b[43m(\u001b[49m\u001b[43m)\u001b[49m\n\u001b[1;32m   1328\u001b[0m \u001b[38;5;28mself\u001b[39m\u001b[38;5;241m.\u001b[39m_tasks_outstanding \u001b[38;5;241m-\u001b[39m\u001b[38;5;241m=\u001b[39m \u001b[38;5;241m1\u001b[39m\n\u001b[1;32m   1329\u001b[0m \u001b[38;5;28;01mif\u001b[39;00m \u001b[38;5;28mself\u001b[39m\u001b[38;5;241m.\u001b[39m_dataset_kind \u001b[38;5;241m==\u001b[39m _DatasetKind\u001b[38;5;241m.\u001b[39mIterable:\n\u001b[1;32m   1330\u001b[0m     \u001b[38;5;66;03m# Check for _IterableDatasetStopIteration\u001b[39;00m\n",
      "File \u001b[0;32m~/shares/SR006.nfs2/almas_deepfake_detection/env/cnn-detection-env/lib/python3.12/site-packages/torch/utils/data/dataloader.py:1293\u001b[0m, in \u001b[0;36m_MultiProcessingDataLoaderIter._get_data\u001b[0;34m(self)\u001b[0m\n\u001b[1;32m   1289\u001b[0m     \u001b[38;5;66;03m# In this case, `self._data_queue` is a `queue.Queue`,. But we don't\u001b[39;00m\n\u001b[1;32m   1290\u001b[0m     \u001b[38;5;66;03m# need to call `.task_done()` because we don't use `.join()`.\u001b[39;00m\n\u001b[1;32m   1291\u001b[0m \u001b[38;5;28;01melse\u001b[39;00m:\n\u001b[1;32m   1292\u001b[0m     \u001b[38;5;28;01mwhile\u001b[39;00m \u001b[38;5;28;01mTrue\u001b[39;00m:\n\u001b[0;32m-> 1293\u001b[0m         success, data \u001b[38;5;241m=\u001b[39m \u001b[38;5;28;43mself\u001b[39;49m\u001b[38;5;241;43m.\u001b[39;49m\u001b[43m_try_get_data\u001b[49m\u001b[43m(\u001b[49m\u001b[43m)\u001b[49m\n\u001b[1;32m   1294\u001b[0m         \u001b[38;5;28;01mif\u001b[39;00m success:\n\u001b[1;32m   1295\u001b[0m             \u001b[38;5;28;01mreturn\u001b[39;00m data\n",
      "File \u001b[0;32m~/shares/SR006.nfs2/almas_deepfake_detection/env/cnn-detection-env/lib/python3.12/site-packages/torch/utils/data/dataloader.py:1131\u001b[0m, in \u001b[0;36m_MultiProcessingDataLoaderIter._try_get_data\u001b[0;34m(self, timeout)\u001b[0m\n\u001b[1;32m   1118\u001b[0m \u001b[38;5;28;01mdef\u001b[39;00m \u001b[38;5;21m_try_get_data\u001b[39m(\u001b[38;5;28mself\u001b[39m, timeout\u001b[38;5;241m=\u001b[39m_utils\u001b[38;5;241m.\u001b[39mMP_STATUS_CHECK_INTERVAL):\n\u001b[1;32m   1119\u001b[0m     \u001b[38;5;66;03m# Tries to fetch data from `self._data_queue` once for a given timeout.\u001b[39;00m\n\u001b[1;32m   1120\u001b[0m     \u001b[38;5;66;03m# This can also be used as inner loop of fetching without timeout, with\u001b[39;00m\n\u001b[0;32m   (...)\u001b[0m\n\u001b[1;32m   1128\u001b[0m     \u001b[38;5;66;03m# Returns a 2-tuple:\u001b[39;00m\n\u001b[1;32m   1129\u001b[0m     \u001b[38;5;66;03m#   (bool: whether successfully get data, any: data if successful else None)\u001b[39;00m\n\u001b[1;32m   1130\u001b[0m     \u001b[38;5;28;01mtry\u001b[39;00m:\n\u001b[0;32m-> 1131\u001b[0m         data \u001b[38;5;241m=\u001b[39m \u001b[38;5;28;43mself\u001b[39;49m\u001b[38;5;241;43m.\u001b[39;49m\u001b[43m_data_queue\u001b[49m\u001b[38;5;241;43m.\u001b[39;49m\u001b[43mget\u001b[49m\u001b[43m(\u001b[49m\u001b[43mtimeout\u001b[49m\u001b[38;5;241;43m=\u001b[39;49m\u001b[43mtimeout\u001b[49m\u001b[43m)\u001b[49m\n\u001b[1;32m   1132\u001b[0m         \u001b[38;5;28;01mreturn\u001b[39;00m (\u001b[38;5;28;01mTrue\u001b[39;00m, data)\n\u001b[1;32m   1133\u001b[0m     \u001b[38;5;28;01mexcept\u001b[39;00m \u001b[38;5;167;01mException\u001b[39;00m \u001b[38;5;28;01mas\u001b[39;00m e:\n\u001b[1;32m   1134\u001b[0m         \u001b[38;5;66;03m# At timeout and error, we manually check whether any worker has\u001b[39;00m\n\u001b[1;32m   1135\u001b[0m         \u001b[38;5;66;03m# failed. Note that this is the only mechanism for Windows to detect\u001b[39;00m\n\u001b[1;32m   1136\u001b[0m         \u001b[38;5;66;03m# worker failures.\u001b[39;00m\n",
      "File \u001b[0;32m~/shares/SR006.nfs2/almas_deepfake_detection/env/cnn-detection-env/lib/python3.12/multiprocessing/queues.py:113\u001b[0m, in \u001b[0;36mQueue.get\u001b[0;34m(self, block, timeout)\u001b[0m\n\u001b[1;32m    111\u001b[0m \u001b[38;5;28;01mif\u001b[39;00m block:\n\u001b[1;32m    112\u001b[0m     timeout \u001b[38;5;241m=\u001b[39m deadline \u001b[38;5;241m-\u001b[39m time\u001b[38;5;241m.\u001b[39mmonotonic()\n\u001b[0;32m--> 113\u001b[0m     \u001b[38;5;28;01mif\u001b[39;00m \u001b[38;5;129;01mnot\u001b[39;00m \u001b[38;5;28;43mself\u001b[39;49m\u001b[38;5;241;43m.\u001b[39;49m\u001b[43m_poll\u001b[49m\u001b[43m(\u001b[49m\u001b[43mtimeout\u001b[49m\u001b[43m)\u001b[49m:\n\u001b[1;32m    114\u001b[0m         \u001b[38;5;28;01mraise\u001b[39;00m Empty\n\u001b[1;32m    115\u001b[0m \u001b[38;5;28;01melif\u001b[39;00m \u001b[38;5;129;01mnot\u001b[39;00m \u001b[38;5;28mself\u001b[39m\u001b[38;5;241m.\u001b[39m_poll():\n",
      "File \u001b[0;32m~/shares/SR006.nfs2/almas_deepfake_detection/env/cnn-detection-env/lib/python3.12/multiprocessing/connection.py:257\u001b[0m, in \u001b[0;36m_ConnectionBase.poll\u001b[0;34m(self, timeout)\u001b[0m\n\u001b[1;32m    255\u001b[0m \u001b[38;5;28mself\u001b[39m\u001b[38;5;241m.\u001b[39m_check_closed()\n\u001b[1;32m    256\u001b[0m \u001b[38;5;28mself\u001b[39m\u001b[38;5;241m.\u001b[39m_check_readable()\n\u001b[0;32m--> 257\u001b[0m \u001b[38;5;28;01mreturn\u001b[39;00m \u001b[38;5;28;43mself\u001b[39;49m\u001b[38;5;241;43m.\u001b[39;49m\u001b[43m_poll\u001b[49m\u001b[43m(\u001b[49m\u001b[43mtimeout\u001b[49m\u001b[43m)\u001b[49m\n",
      "File \u001b[0;32m~/shares/SR006.nfs2/almas_deepfake_detection/env/cnn-detection-env/lib/python3.12/multiprocessing/connection.py:440\u001b[0m, in \u001b[0;36mConnection._poll\u001b[0;34m(self, timeout)\u001b[0m\n\u001b[1;32m    439\u001b[0m \u001b[38;5;28;01mdef\u001b[39;00m \u001b[38;5;21m_poll\u001b[39m(\u001b[38;5;28mself\u001b[39m, timeout):\n\u001b[0;32m--> 440\u001b[0m     r \u001b[38;5;241m=\u001b[39m \u001b[43mwait\u001b[49m\u001b[43m(\u001b[49m\u001b[43m[\u001b[49m\u001b[38;5;28;43mself\u001b[39;49m\u001b[43m]\u001b[49m\u001b[43m,\u001b[49m\u001b[43m \u001b[49m\u001b[43mtimeout\u001b[49m\u001b[43m)\u001b[49m\n\u001b[1;32m    441\u001b[0m     \u001b[38;5;28;01mreturn\u001b[39;00m \u001b[38;5;28mbool\u001b[39m(r)\n",
      "File \u001b[0;32m~/shares/SR006.nfs2/almas_deepfake_detection/env/cnn-detection-env/lib/python3.12/multiprocessing/connection.py:1135\u001b[0m, in \u001b[0;36mwait\u001b[0;34m(object_list, timeout)\u001b[0m\n\u001b[1;32m   1132\u001b[0m     deadline \u001b[38;5;241m=\u001b[39m time\u001b[38;5;241m.\u001b[39mmonotonic() \u001b[38;5;241m+\u001b[39m timeout\n\u001b[1;32m   1134\u001b[0m \u001b[38;5;28;01mwhile\u001b[39;00m \u001b[38;5;28;01mTrue\u001b[39;00m:\n\u001b[0;32m-> 1135\u001b[0m     ready \u001b[38;5;241m=\u001b[39m \u001b[43mselector\u001b[49m\u001b[38;5;241;43m.\u001b[39;49m\u001b[43mselect\u001b[49m\u001b[43m(\u001b[49m\u001b[43mtimeout\u001b[49m\u001b[43m)\u001b[49m\n\u001b[1;32m   1136\u001b[0m     \u001b[38;5;28;01mif\u001b[39;00m ready:\n\u001b[1;32m   1137\u001b[0m         \u001b[38;5;28;01mreturn\u001b[39;00m [key\u001b[38;5;241m.\u001b[39mfileobj \u001b[38;5;28;01mfor\u001b[39;00m (key, events) \u001b[38;5;129;01min\u001b[39;00m ready]\n",
      "File \u001b[0;32m~/shares/SR006.nfs2/almas_deepfake_detection/env/cnn-detection-env/lib/python3.12/selectors.py:415\u001b[0m, in \u001b[0;36m_PollLikeSelector.select\u001b[0;34m(self, timeout)\u001b[0m\n\u001b[1;32m    413\u001b[0m ready \u001b[38;5;241m=\u001b[39m []\n\u001b[1;32m    414\u001b[0m \u001b[38;5;28;01mtry\u001b[39;00m:\n\u001b[0;32m--> 415\u001b[0m     fd_event_list \u001b[38;5;241m=\u001b[39m \u001b[38;5;28;43mself\u001b[39;49m\u001b[38;5;241;43m.\u001b[39;49m\u001b[43m_selector\u001b[49m\u001b[38;5;241;43m.\u001b[39;49m\u001b[43mpoll\u001b[49m\u001b[43m(\u001b[49m\u001b[43mtimeout\u001b[49m\u001b[43m)\u001b[49m\n\u001b[1;32m    416\u001b[0m \u001b[38;5;28;01mexcept\u001b[39;00m \u001b[38;5;167;01mInterruptedError\u001b[39;00m:\n\u001b[1;32m    417\u001b[0m     \u001b[38;5;28;01mreturn\u001b[39;00m ready\n",
      "\u001b[0;31mKeyboardInterrupt\u001b[0m: "
     ]
    }
   ],
   "source": [
    "import os\n",
    "import sys\n",
    "import time\n",
    "import torch\n",
    "import torch.nn\n",
    "import argparse\n",
    "import wandb\n",
    "from PIL import Image\n",
    "import numpy as np\n",
    "from validate import validate\n",
    "from data import create_dataloader\n",
    "from networks.trainer import Trainer\n",
    "from options.train_options import TrainOptions\n",
    "from options.test_options import TestOptions\n",
    "from earlystop import EarlyStopping\n",
    "import time\n",
    "import util\n",
    "\n",
    "# test config\n",
    "vals = ['progan', 'stylegan', 'stylegan2', 'biggan', 'cyclegan', 'stargan', 'gaugan', 'deepfake']\n",
    "multiclass = [1, 1, 1, 0, 1, 0, 0, 0]\n",
    "\n",
    "def get_val_opt():\n",
    "    val_opt = TrainOptions().parse(print_options=False)\n",
    "    val_opt.dataroot = '../../CNNDetection_dataset/val'\n",
    "    val_opt.isTrain = False\n",
    "    val_opt.no_resize = False\n",
    "    val_opt.no_crop = False\n",
    "    val_opt.serial_batches = True\n",
    "    val_opt.classes = []\n",
    "    val_opt.jpg_method = ['pil']\n",
    "    if len(val_opt.blur_sig) == 2:\n",
    "        b_sig = val_opt.blur_sig\n",
    "        val_opt.blur_sig = [(b_sig[0] + b_sig[1]) / 2]\n",
    "    if len(val_opt.jpg_qual) != 1:\n",
    "        j_qual = val_opt.jpg_qual\n",
    "        val_opt.jpg_qual = [int((j_qual[0] + j_qual[-1]) / 2)]\n",
    "    return val_opt\n",
    "\n",
    "# params\n",
    "opt = TrainOptions().parse()\n",
    "opt.name = \"test-4class-resnet-car-cat-chair-horse\" + time.strftime(\"%Y_%m_%d_%H_%M_%S\", time.localtime())\n",
    "# opt.suffix = time.strftime(\"%Y_%m_%d_%H_%M_%S\", time.localtime())\n",
    "opt.dataroot = '../../CNNDetection_dataset/'\n",
    "# opt.classes = \"airplane,bicycle,bird,boat,bottle,bus,car,cat,chair,cow,diningtable,dog,horse,motorbike,person,pottedplant,sheep,sofa,train,tvmonitor\"\n",
    "opt.classes = [\"car\",\"cat\",\"chair\",\"horse\"]\n",
    "opt.blur_prob = 0\n",
    "opt.blur_sig = 0\n",
    "opt.jpg_prob = 0\n",
    "opt.jpg_method = 'cv2'\n",
    "opt.batch_size = 32\n",
    "opt.niter = 1\n",
    "expr_dir = os.path.join(opt.checkpoints_dir, opt.name)\n",
    "util.mkdirs(expr_dir)\n",
    "\n",
    "\n",
    "Testdataroot = os.path.join(opt.dataroot, 'test')\n",
    "opt.dataroot = '{}/{}/'.format(opt.dataroot, opt.train_split)\n",
    "print('  '.join(list(sys.argv)) )\n",
    "val_opt = get_val_opt()\n",
    "Testopt = TestOptions().parse(print_options=False)\n",
    "data_loader = create_dataloader(opt)\n",
    "\n",
    "\n",
    "wandb.init(project='CNNDetection_test_start', name=opt.name, config=opt)\n",
    "\n",
    "model = Trainer(opt)\n",
    "\n",
    "print(f'Model is running on device: {next(model.model.parameters()).device}')\n",
    "\n",
    "def testmodel():\n",
    "    print('*'*25);accs = [];aps = []\n",
    "    print(time.strftime(\"%Y_%m_%d_%H_%M_%S\", time.localtime()))\n",
    "    for v_id, val in enumerate(vals):\n",
    "        Testopt.dataroot = '{}/{}'.format(Testdataroot, val)\n",
    "        Testopt.classes = os.listdir(Testopt.dataroot) if multiclass[v_id] else ['']\n",
    "        # Testopt.no_resize = True\n",
    "        # Testopt.no_crop = True\n",
    "        acc, ap, _, _, _, _ = validate(model.model, Testopt)\n",
    "        accs.append(acc);aps.append(ap)\n",
    "        print(\"({} {:10}) acc: {:.1f}; ap: {:.1f}\".format(v_id, val, acc*100, ap*100))\n",
    "        wandb.log({f'{val}_acc': acc, f'{val}_ap': ap, 'step': model.total_steps})\n",
    "    mean_acc = np.array(accs).mean()*100\n",
    "    mean_ap = np.array(aps).mean()*100\n",
    "    \n",
    "    print(\"({} {:10}) acc: {:.1f}; ap: {:.1f}\".format(v_id+1,'Mean', np.array(accs).mean()*100, np.array(aps).mean()*100));print('*'*25) \n",
    "    print(time.strftime(\"%Y_%m_%d_%H_%M_%S\", time.localtime()))\n",
    "    wandb.log({'Mean_acc': mean_acc, 'Mean_ap': mean_ap, 'step': model.total_steps})\n",
    "\n",
    "\n",
    "# model.eval();testmodel()\n",
    "model.train()\n",
    "print(f'cwd: {os.getcwd()}')\n",
    "early_stopping = EarlyStopping(patience=opt.earlystop_epoch, delta=-0.001, verbose=True)\n",
    "\n",
    "for epoch in range(opt.niter):\n",
    "    epoch_start_time = time.time()\n",
    "    iter_data_time = time.time()\n",
    "    epoch_iter = 0\n",
    "\n",
    "    wandb.log({'Epoch': epoch + 1, 'step': model.total_steps})\n",
    "\n",
    "    for i, data in enumerate(data_loader):\n",
    "        model.total_steps += 1\n",
    "        epoch_iter += opt.batch_size\n",
    "\n",
    "        model.set_input(data)\n",
    "        model.optimize_parameters()\n",
    "\n",
    "        if model.total_steps % opt.loss_freq == 0:\n",
    "            print(time.strftime(\"%Y_%m_%d_%H_%M_%S\", time.localtime()), \"Train loss: {} at step: {} lr {}\".format(model.loss, model.total_steps, model.lr))\n",
    "            wandb.log({'Train_loss': model.loss, 'step': model.total_steps})\n",
    "\n",
    "    if epoch % opt.save_epoch_freq == 0:\n",
    "        print('saving the model at the end of epoch %d, iters %d' %\n",
    "            (epoch, model.total_steps))\n",
    "        model.save_networks('latest')\n",
    "        model.save_networks(epoch)\n",
    "\n",
    "\n",
    "    # Validation\n",
    "    model.eval()\n",
    "    acc, ap = validate(model.model, val_opt)[:2]\n",
    "    wandb.log({'Val_accuracy': acc, 'Val_ap': ap, 'step': model.total_steps, 'Epoch': epoch + 1})\n",
    "    print(\"(Val @ epoch {}) acc: {}; ap: {}\".format(epoch, acc, ap))\n",
    "\n",
    "    early_stopping(acc, model)\n",
    "    if early_stopping.early_stop:\n",
    "        cont_train = model.adjust_learning_rate()\n",
    "        if cont_train:\n",
    "            print(\"Learning rate dropped by 10, continue training...\")\n",
    "            early_stopping = EarlyStopping(patience=opt.earlystop_epoch, delta=-0.002, verbose=True)\n",
    "        else:\n",
    "            print(\"Early stopping.\")\n",
    "            break\n",
    "\n",
    "    testmodel()\n",
    "    model.train()\n",
    "\n",
    "model.eval();testmodel()\n",
    "model.save_networks('last')\n",
    "wandb.finish()"
   ]
  },
  {
   "cell_type": "code",
   "execution_count": 1,
   "id": "402c4da3",
   "metadata": {},
   "outputs": [
    {
     "ename": "NameError",
     "evalue": "name 'wandb' is not defined",
     "output_type": "error",
     "traceback": [
      "\u001b[0;31m---------------------------------------------------------------------------\u001b[0m",
      "\u001b[0;31mNameError\u001b[0m                                 Traceback (most recent call last)",
      "Cell \u001b[0;32mIn[1], line 1\u001b[0m\n\u001b[0;32m----> 1\u001b[0m \u001b[43mwandb\u001b[49m\u001b[38;5;241m.\u001b[39mfinish()\n",
      "\u001b[0;31mNameError\u001b[0m: name 'wandb' is not defined"
     ]
    }
   ],
   "source": [
    "wandb.finish()"
   ]
  }
 ],
 "metadata": {
  "kernelspec": {
   "display_name": "Python 3",
   "language": "python",
   "name": "python3"
  },
  "language_info": {
   "codemirror_mode": {
    "name": "ipython",
    "version": 3
   },
   "file_extension": ".py",
   "mimetype": "text/x-python",
   "name": "python",
   "nbconvert_exporter": "python",
   "pygments_lexer": "ipython3",
   "version": "3.12.2"
  }
 },
 "nbformat": 4,
 "nbformat_minor": 5
}
