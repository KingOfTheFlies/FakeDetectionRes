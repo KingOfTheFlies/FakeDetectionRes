{
 "cells": [
  {
   "cell_type": "code",
   "execution_count": 12,
   "metadata": {},
   "outputs": [
    {
     "name": "stderr",
     "output_type": "stream",
     "text": [
      "/tmp/ipykernel_1605245/4278691843.py:26: FutureWarning: You are using `torch.load` with `weights_only=False` (the current default value), which uses the default pickle module implicitly. It is possible to construct malicious pickle data which will execute arbitrary code during unpickling (See https://github.com/pytorch/pytorch/blob/main/SECURITY.md#untrusted-models for more details). In a future release, the default value for `weights_only` will be flipped to `True`. This limits the functions that could be executed during unpickling. Arbitrary objects will no longer be allowed to be loaded via this mode unless they are explicitly allowlisted by the user via `torch.serialization.add_safe_globals`. We recommend you start setting `weights_only=True` for any use case where you don't have full control of the loaded file. Please open an issue on GitHub for any issues related to this experimental feature.\n",
      "  state_dict = torch.load(opt.model_path, map_location='cpu')\n",
      "/tmp/ipykernel_1605245/4278691843.py:27: FutureWarning: You are using `torch.load` with `weights_only=False` (the current default value), which uses the default pickle module implicitly. It is possible to construct malicious pickle data which will execute arbitrary code during unpickling (See https://github.com/pytorch/pytorch/blob/main/SECURITY.md#untrusted-models for more details). In a future release, the default value for `weights_only` will be flipped to `True`. This limits the functions that could be executed during unpickling. Arbitrary objects will no longer be allowed to be loaded via this mode unless they are explicitly allowlisted by the user via `torch.serialization.add_safe_globals`. We recommend you start setting `weights_only=True` for any use case where you don't have full control of the loaded file. Please open an issue on GitHub for any issues related to this experimental feature.\n",
      "  model.load_state_dict(torch.load(opt.model_path, map_location='cuda:0'), strict=True)\n"
     ]
    },
    {
     "name": "stdout",
     "output_type": "stream",
     "text": [
      "Not cropping\n",
      "probability of being synthetic: 0.00%\n"
     ]
    }
   ],
   "source": [
    "import os\n",
    "import sys\n",
    "import torch\n",
    "import torch.nn\n",
    "import argparse\n",
    "import numpy as np\n",
    "import torchvision.transforms as transforms\n",
    "import torchvision.datasets as datasets\n",
    "from PIL import Image\n",
    "from networks.resnet import resnet50\n",
    "\n",
    "# file_dir = '/home/jovyan/shares/SR006.nfs2/almas_deepfake_detection/datasets/DiffusionForensics/dalle2/celebahq/1_fake/100.png'\n",
    "weights_path = '/home/jovyan/shares/SR006.nfs2/almas_deepfake_detection/deepfake_detection_models/NPR-DeepfakeDetection/checkpoints/4-class-resnet-100-epochs/model_epoch_98_epoch.pth'\n",
    "# weights_path = \"/home/jovyan/shares/SR006.nfs2/almas_deepfake_detection/deepfake_detection_models/NPR-DeepfakeDetection/NPR.pth\"\n",
    "file_dir = '/home/jovyan/shares/SR006.nfs2/almas_deepfake_detection/datasets/DiffusionForensics/dalle2/celebahq/0_real/000152.jpg'\n",
    "\n",
    "parser = argparse.ArgumentParser(formatter_class=argparse.ArgumentDefaultsHelpFormatter)\n",
    "parser.add_argument('-f','--file', default=file_dir)\n",
    "parser.add_argument('-m','--model_path', type=str, default=weights_path)\n",
    "parser.add_argument('-c','--crop', type=int, default=None, help='by default, do not crop. specify crop size')\n",
    "parser.add_argument('--use_cpu', action='store_true', help='uses gpu by default, turn on to use cpu')\n",
    "\n",
    "opt = parser.parse_args()\n",
    "\n",
    "model = resnet50(num_classes=1)\n",
    "state_dict = torch.load(opt.model_path, map_location='cpu')\n",
    "model.load_state_dict(torch.load(opt.model_path, map_location='cuda:0'), strict=True)\n",
    "if(not opt.use_cpu):\n",
    "  model.cuda()\n",
    "model.eval()\n",
    "\n",
    "# Transform\n",
    "trans_init = []\n",
    "if(opt.crop is not None):\n",
    "  trans_init = [transforms.CenterCrop(opt.crop),]\n",
    "  print('Cropping to [%i]'%opt.crop)\n",
    "else:\n",
    "  print('Not cropping')\n",
    "trans = transforms.Compose(trans_init + [\n",
    "    transforms.ToTensor(),\n",
    "    transforms.Normalize(mean=[0.485, 0.456, 0.406], std=[0.229, 0.224, 0.225]),\n",
    "])\n",
    "\n",
    "img = trans(Image.open(file_dir).convert('RGB'))\n",
    "\n",
    "with torch.no_grad():\n",
    "  in_tens = img.unsqueeze(0)\n",
    "  if not opt.use_cpu:\n",
    "    in_tens = in_tens.cuda()\n",
    "  prob = model(in_tens).sigmoid().item()\n",
    "\n",
    "print('probability of being synthetic: {:.2f}%'.format(prob * 100))\n"
   ]
  },
  {
   "cell_type": "code",
   "execution_count": 11,
   "metadata": {},
   "outputs": [],
   "source": [
    "import torch\n",
    "import torch.nn.functional as F\n",
    "from PIL import Image\n",
    "import numpy as np\n",
    "\n",
    "class ImageProcessor:\n",
    "    def interpolate(self, img, factor):\n",
    "        # Двойная интерполяция с уменьшением и увеличением\n",
    "        img_downscaled = F.interpolate(img, scale_factor=factor, mode='nearest', recompute_scale_factor=True)\n",
    "        img_upscaled = F.interpolate(img_downscaled, scale_factor=1/factor, mode='nearest', recompute_scale_factor=True)\n",
    "        return img_upscaled\n",
    "\n",
    "    def apply_npr(self, img):\n",
    "        # NPR = x - self.interpolate(x, 0.5)\n",
    "        interpolated_img = self.interpolate(img, 0.5)\n",
    "        npr_result = img - interpolated_img\n",
    "        return npr_result\n",
    "\n",
    "def save_image(tensor, filename):\n",
    "    # Преобразуем тензор обратно в изображение и сохраняем его\n",
    "    tensor = tensor.squeeze()  # Удаляем лишние размеры, если есть\n",
    "    tensor = tensor.permute(1, 2, 0).cpu().numpy()  # Перемещаем каналы для PIL\n",
    "    tensor = (tensor - tensor.min()) / (tensor.max() - tensor.min())  # Нормализуем для отображения в 0-1\n",
    "    img = Image.fromarray((tensor * 255).astype(np.uint8))\n",
    "    img.save(filename)\n",
    "\n",
    "# Пример использования\n",
    "# Загружаем изображение и преобразуем его в тензор\n",
    "file_dir = '/home/jovyan/shares/SR006.nfs2/almas_deepfake_detection/datasets/DiffusionForensics/dalle2/celebahq/0_real/000152.jpg'\n",
    "img = Image.open(file_dir)\n",
    "img = img.convert('RGB')  # Преобразуем в RGB, если не RGB\n",
    "img_tensor = torch.from_numpy(np.array(img)).float().permute(2, 0, 1).unsqueeze(0)  # Преобразуем в тензор, [B, C, H, W]\n",
    "\n",
    "# Применяем операцию NPR\n",
    "processor = ImageProcessor()\n",
    "npr_image = processor.apply_npr(img_tensor)\n",
    "\n",
    "# Сохраняем результат\n",
    "save_image(npr_image, 'npr_result.jpg')\n"
   ]
  }
 ],
 "metadata": {
  "kernelspec": {
   "display_name": "Python 3",
   "language": "python",
   "name": "python3"
  },
  "language_info": {
   "codemirror_mode": {
    "name": "ipython",
    "version": 3
   },
   "file_extension": ".py",
   "mimetype": "text/x-python",
   "name": "python",
   "nbconvert_exporter": "python",
   "pygments_lexer": "ipython3",
   "version": "3.12.2"
  }
 },
 "nbformat": 4,
 "nbformat_minor": 2
}
